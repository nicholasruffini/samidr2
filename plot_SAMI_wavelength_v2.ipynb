{
 "cells": [
  {
   "cell_type": "code",
   "execution_count": 1,
   "metadata": {},
   "outputs": [],
   "source": [
    "import numpy as np\n",
    "import matplotlib as mpl\n",
    "import matplotlib.pyplot as plt\n",
    "from astropy.table import Table\n",
    "from astropy.io import fits\n",
    "import seaborn as sns; sns.set()"
   ]
  },
  {
   "cell_type": "code",
   "execution_count": 2,
   "metadata": {},
   "outputs": [],
   "source": [
    "def read_fits(filename):\n",
    "    \"\"\"\n",
    "    Read datacube\n",
    "    Input: filname and the y and x boundaries: limits = [ymin,ymax,xmin,xmax]\n",
    "    \"\"\"\n",
    "    fits_cube_read = fits.open(filename)\n",
    "    cube, hdr, var = fits_cube_read[0].data, fits_cube_read[0].header, fits_cube_read[1].data\n",
    "\n",
    "    \"\"\"\n",
    "    Calibrate in wavelength from header keywords\n",
    "    \"\"\"\n",
    "    cdelt3 = hdr['CDELT3'] # the scale\n",
    "    crval3 = hdr['CRVAL3'] # the starting wavelength\n",
    "    naxis3 = hdr['NAXIS3'] # the length of the axis\n",
    "    pixel = np.arange(cube.shape[0])\n",
    "    lamb = crval3 + (pixel) * cdelt3 #the wavelength ranges\n",
    "    lamRange =  [crval3 + 0,crval3 + cdelt3*(naxis3-1)] # the first and last wavelength of the spectrum\n",
    "\n",
    "    return (cube, hdr, var, lamb, lamRange)"
   ]
  },
  {
   "cell_type": "code",
   "execution_count": 3,
   "metadata": {},
   "outputs": [],
   "source": [
    "filename = 'data/100162/100162_cube_red.fits.gz'\n",
    "cube, hdr, var, lamb, lamRange = read_fits(filename)"
   ]
  },
  {
   "cell_type": "code",
   "execution_count": 4,
   "metadata": {},
   "outputs": [
    {
     "data": {
      "text/plain": [
       "array([6844.70444553, 6845.29555447, 6845.88666341, ..., 8053.52222765,\n",
       "       8054.11333659, 8054.70444553])"
      ]
     },
     "execution_count": 4,
     "metadata": {},
     "output_type": "execute_result"
    }
   ],
   "source": [
    "lamb"
   ]
  },
  {
   "cell_type": "code",
   "execution_count": 5,
   "metadata": {},
   "outputs": [
    {
     "data": {
      "text/plain": [
       "(2048,)"
      ]
     },
     "execution_count": 5,
     "metadata": {},
     "output_type": "execute_result"
    }
   ],
   "source": [
    "lamb.shape"
   ]
  },
  {
   "cell_type": "code",
   "execution_count": 6,
   "metadata": {},
   "outputs": [],
   "source": [
    "file_name = 'data/100162/100162_cube_red.fits.gz'\n",
    "cube_red, hdr_red, var_red, lamb_red, lamRange_red = read_fits(file_name)"
   ]
  },
  {
   "cell_type": "code",
   "execution_count": 7,
   "metadata": {},
   "outputs": [],
   "source": [
    "central_flux = cube_red[:,25,25] "
   ]
  },
  {
   "cell_type": "code",
   "execution_count": 8,
   "metadata": {},
   "outputs": [
    {
     "data": {
      "text/plain": [
       "0.05767299282153364"
      ]
     },
     "execution_count": 8,
     "metadata": {},
     "output_type": "execute_result"
    }
   ],
   "source": [
    "central_flux[1000]"
   ]
  },
  {
   "cell_type": "code",
   "execution_count": 9,
   "metadata": {},
   "outputs": [
    {
     "data": {
      "text/plain": [
       "[<matplotlib.lines.Line2D at 0x7fc9233b5b70>]"
      ]
     },
     "execution_count": 9,
     "metadata": {},
     "output_type": "execute_result"
    },
    {
     "data": {
      "image/png": "[encoded data removed]",
      "text/plain": [
       "<Figure size 432x288 with 1 Axes>"
      ]
     },
     "metadata": {
      "needs_background": "light"
     },
     "output_type": "display_data"
    }
   ],
   "source": [
    "plt.plot(lamb, central_flux, sns.xkcd_rgb[\"pale red\"], linewidth = 0.3)"
   ]
  },
  {
   "cell_type": "code",
   "execution_count": 10,
   "metadata": {},
   "outputs": [],
   "source": [
    "gasvelocity_fits = 'data/100162/100162_gas-velocity_default_recom-comp.fits'\n",
    "gasvelocity = fits.open(gasvelocity_fits)"
   ]
  },
  {
   "cell_type": "code",
   "execution_count": 11,
   "metadata": {},
   "outputs": [
    {
     "name": "stdout",
     "output_type": "stream",
     "text": [
      "Filename: data/100162/100162_gas-velocity_default_recom-comp.fits\n",
      "No.    Name      Ver    Type      Cards   Dimensions   Format\n",
      "  0  PRIMARY       1 PrimaryHDU      19   (50, 50, 3)   float64   \n",
      "  1  V_ERR         1 ImageHDU        21   (50, 50, 3)   float32   \n"
     ]
    }
   ],
   "source": [
    "gasvelocity.info()"
   ]
  },
  {
   "cell_type": "code",
   "execution_count": 12,
   "metadata": {},
   "outputs": [],
   "source": [
    "gas_veloctiy = gasvelocity[0].data"
   ]
  },
  {
   "cell_type": "code",
   "execution_count": 13,
   "metadata": {},
   "outputs": [
    {
     "data": {
      "text/plain": [
       "-0.5154096496407874"
      ]
     },
     "execution_count": 13,
     "metadata": {},
     "output_type": "execute_result"
    }
   ],
   "source": [
    "gas_veloctiy[0,25,25]"
   ]
  },
  {
   "cell_type": "code",
   "execution_count": 14,
   "metadata": {},
   "outputs": [
    {
     "data": {
      "text/plain": [
       "6844.70444553"
      ]
     },
     "execution_count": 14,
     "metadata": {},
     "output_type": "execute_result"
    }
   ],
   "source": [
    "lamb[0]"
   ]
  },
  {
   "cell_type": "code",
   "execution_count": 15,
   "metadata": {},
   "outputs": [
    {
     "data": {
      "text/plain": [
       "6844.6926861076"
      ]
     },
     "execution_count": 15,
     "metadata": {},
     "output_type": "execute_result"
    }
   ],
   "source": [
    "lamb[0] * ( 1 + ( gas_veloctiy[0,25,25] / 300000 ))"
   ]
  },
  {
   "cell_type": "code",
   "execution_count": 16,
   "metadata": {},
   "outputs": [
    {
     "data": {
      "text/plain": [
       "6845.2955544699125"
      ]
     },
     "execution_count": 16,
     "metadata": {},
     "output_type": "execute_result"
    }
   ],
   "source": [
    "lamb[1]"
   ]
  },
  {
   "cell_type": "code",
   "execution_count": 17,
   "metadata": {},
   "outputs": [
    {
     "data": {
      "text/plain": [
       "'\\nthe small shift in each slice is less than the resolution from slice-to-slice\\nsame flux will be taken at each spaxel separately, as before\\nnew wavelength shift will be stored separately (each slice\\'s shift left/right)\\nnew diff function needed here? where lambda is different but the flux is the same\\ni.e. new wavelength information needing to be accounted for when \"diff-ing\" \\n'"
      ]
     },
     "execution_count": 17,
     "metadata": {},
     "output_type": "execute_result"
    }
   ],
   "source": [
    "'''\n",
    "the small shift in each slice is less than the resolution from slice-to-slice\n",
    "same flux will be taken at each spaxel separately, as before\n",
    "new wavelength shift will be stored separately (each slice's shift left/right)\n",
    "new diff function needed here? where lambda is different but the flux is the same\n",
    "i.e. new wavelength information needing to be accounted for when \"diff-ing\" \n",
    "'''"
   ]
  },
  {
   "cell_type": "code",
   "execution_count": 19,
   "metadata": {},
   "outputs": [
    {
     "data": {
      "text/plain": [
       "'\\n1. read in red_cube and gas_velocity files\\ninfo needed from red_cube:\\n- header keywords for wavelength information\\n- flux in each spaxel\\ninfo needed from gas_velocity:\\n- gas_velocity at each spaxel\\n2. create empty wavelength array for new lambda values\\n3. at each spaxel, use the header keywords to create new\\n   wavelength at each slice by shifting by velocity\\n4. store updated wavelength in array\\n'"
      ]
     },
     "execution_count": 19,
     "metadata": {},
     "output_type": "execute_result"
    }
   ],
   "source": [
    "'''\n",
    "1. read in red_cube and gas_velocity files\n",
    "info needed from red_cube:\n",
    "- header keywords for wavelength information\n",
    "- flux in each spaxel\n",
    "info needed from gas_velocity:\n",
    "- gas_velocity at each spaxel\n",
    "2. create empty wavelength array for new lambda values\n",
    "3. at each spaxel, use the header keywords to create new\n",
    "   wavelength at each slice by shifting by velocity\n",
    "4. store updated wavelength in array\n",
    "'''"
   ]
  },
  {
   "cell_type": "code",
   "execution_count": 24,
   "metadata": {},
   "outputs": [],
   "source": [
    "def wavelength_gas_vel(red_cube, gas_velocity):\n",
    "    \n",
    "    L = 50\n",
    "    \n",
    "    red_flux_data = fits.open(red_cube)\n",
    "    cube = red_flux_data[0].data\n",
    "    hdr = red_flux_data[0].header\n",
    "    cdelt3 = hdr['CDELT3'] # the scale\n",
    "    crval3 = hdr['CRVAL3'] # the starting wavelength\n",
    "    naxis3 = hdr['NAXIS3'] # the length of the axis\n",
    "    pixel = np.arange(cube.shape[0])\n",
    "    lamb = crval3 + (pixel) * cdelt3 #the wavelength ranges\n",
    "    \n",
    "    gasvelocity = fits.open(gas_velocity)  \n",
    "    gas_veloctiy_2d = gasvelocity[0].data\n",
    "    \n",
    "    wavelength_array = np.zeros(shape=(2048,50,50))\n",
    "    \n",
    "    for i in range(L-1):\n",
    "        for j in range(L-1):\n",
    "            wavelength_array[:,i,j] = lamb[:] * ( 1 + ( gas_veloctiy[0,i,j] / 300000 ))\n",
    "    \n",
    "    return (wavelength_array)"
   ]
  },
  {
   "cell_type": "code",
   "execution_count": 25,
   "metadata": {},
   "outputs": [],
   "source": [
    "red_cube = 'data/100162/100162_cube_red.fits.gz'"
   ]
  },
  {
   "cell_type": "code",
   "execution_count": 26,
   "metadata": {},
   "outputs": [],
   "source": [
    "gas_velocity = 'data/100162/100162_gas-velocity_default_recom-comp.fits'"
   ]
  },
  {
   "cell_type": "code",
   "execution_count": 27,
   "metadata": {},
   "outputs": [],
   "source": [
    "wavelength_array = wavelength_gas_vel(red_cube, gas_velocity)"
   ]
  },
  {
   "cell_type": "code",
   "execution_count": 28,
   "metadata": {},
   "outputs": [
    {
     "data": {
      "text/plain": [
       "array([6844.69268611, 6845.28379403, 6845.87490196, ..., 8053.50839144,\n",
       "       8054.09949936, 8054.69060729])"
      ]
     },
     "execution_count": 28,
     "metadata": {},
     "output_type": "execute_result"
    }
   ],
   "source": [
    "wavelength_array[:,25,25]"
   ]
  },
  {
   "cell_type": "code",
   "execution_count": 31,
   "metadata": {},
   "outputs": [
    {
     "data": {
      "text/plain": [
       "array([6844.70444553, 6845.29555447, 6845.88666341, ..., 8053.52222765,\n",
       "       8054.11333659, 8054.70444553])"
      ]
     },
     "execution_count": 31,
     "metadata": {},
     "output_type": "execute_result"
    }
   ],
   "source": [
    "lamb"
   ]
  },
  {
   "cell_type": "code",
   "execution_count": 41,
   "metadata": {},
   "outputs": [
    {
     "data": {
      "text/plain": [
       "(7320, 7360)"
      ]
     },
     "execution_count": 41,
     "metadata": {},
     "output_type": "execute_result"
    },
    {
     "data": {
      "image/png": "[encoded data removed]",
      "text/plain": [
       "<Figure size 432x288 with 1 Axes>"
      ]
     },
     "metadata": {
      "needs_background": "light"
     },
     "output_type": "display_data"
    }
   ],
   "source": [
    "fig,ax = plt.subplots()\n",
    "plt.plot(wavelength_array[:,25,25], central_flux, linewidth = 0.5)\n",
    "plt.plot(lamb, central_flux, sns.xkcd_rgb[\"pale red\"], linewidth = 0.5)\n",
    "ax.set_xlim(7320, 7360)"
   ]
  },
  {
   "cell_type": "code",
   "execution_count": 42,
   "metadata": {},
   "outputs": [
    {
     "data": {
      "text/plain": [
       "(7320, 7360)"
      ]
     },
     "execution_count": 42,
     "metadata": {},
     "output_type": "execute_result"
    },
    {
     "data": {
      "image/png": "[encoded data removed]",
      "text/plain": [
       "<Figure size 432x288 with 1 Axes>"
      ]
     },
     "metadata": {
      "needs_background": "light"
     },
     "output_type": "display_data"
    }
   ],
   "source": [
    "fig,ax = plt.subplots()\n",
    "plt.plot(wavelength_array[:,30,30], central_flux, linewidth = 0.5)\n",
    "plt.plot(lamb, central_flux, sns.xkcd_rgb[\"pale red\"], linewidth = 0.5)\n",
    "ax.set_xlim(7320, 7360)"
   ]
  }
 ],
 "metadata": {
  "kernelspec": {
   "display_name": "Python 3",
   "language": "python",
   "name": "python3"
  },
  "language_info": {
   "codemirror_mode": {
    "name": "ipython",
    "version": 3
   },
   "file_extension": ".py",
   "mimetype": "text/x-python",
   "name": "python",
   "nbconvert_exporter": "python",
   "pygments_lexer": "ipython3",
   "version": "3.6.8"
  }
 },
 "nbformat": 4,
 "nbformat_minor": 2
}
